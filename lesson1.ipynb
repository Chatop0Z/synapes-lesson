{
 "cells": [
  {
   "attachments": {},
   "cell_type": "markdown",
   "metadata": {},
   "source": [
    "# GIT\n",
    "https://git-scm.com/\n",
    "\n",
    "basic command:\n",
    "\n",
    "git clone {git url repository}\n",
    "\n",
    "git add {file name}\n",
    "\n",
    "git commit -am \"comment\"\n",
    "\n",
    "git push {remote name} {branch}\n",
    "\n",
    "git pull {remote name} {branch}\n",
    "\n",
    "git status\n",
    "\n",
    "git branch"
   ]
  },
  {
   "cell_type": "code",
   "execution_count": null,
   "metadata": {
    "vscode": {
     "languageId": "plaintext"
    }
   },
   "outputs": [],
   "source": []
  },
  {
   "cell_type": "markdown",
   "metadata": {},
   "source": []
  },
  {
   "cell_type": "markdown",
   "metadata": {},
   "source": []
  }
 ],
 "metadata": {
  "language_info": {
   "name": "python"
  },
  "orig_nbformat": 4
 },
 "nbformat": 4,
 "nbformat_minor": 2
}
